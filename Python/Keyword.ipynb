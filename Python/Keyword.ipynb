{
 "cells": [
  {
   "cell_type": "markdown",
   "metadata": {},
   "source": [
    "# Entire Serial Implementation with Wordlist"
   ]
  },
  {
   "cell_type": "code",
   "execution_count": 7,
   "metadata": {
    "ExecuteTime": {
     "end_time": "2021-04-25T06:17:42.293803Z",
     "start_time": "2021-04-25T06:12:55.401379Z"
    }
   },
   "outputs": [
    {
     "name": "stdout",
     "output_type": "stream",
     "text": [
      "1. Encryption\n",
      "2. Decryption\n",
      "Choose(1,2): 1\n",
      "---Encrypting---\n",
      "Total number of words=  7871826\n",
      "Execution time=  284.6749155521393\n"
     ]
    }
   ],
   "source": [
    "import sys\n",
    "import time\n",
    "\n",
    "valid_letters='abcdefghijklmnopqrstuvwxyz'\n",
    "user_key='keywords'\n",
    "key=''\n",
    "\n",
    "cipher=[]\n",
    "for char in user_key:\n",
    "    if char in valid_letters:\n",
    "            key+=char\n",
    "for char in valid_letters:\n",
    "    if char not in key:\n",
    "        key+=char\n",
    "        \n",
    "def encrypt(clear_text):\n",
    "    new_string=''\n",
    "    for char in clear_text:\n",
    "        if char in valid_letters:\n",
    "            new_string+=char\n",
    "    index_values=[valid_letters.index(char) for char in new_string]\n",
    "    return \"\".join(key[indexkey] for indexkey in index_values)\n",
    "\n",
    "def decrypt(encrypted_text):\n",
    "    new_string=''\n",
    "    for char in encrypted_text:\n",
    "        if char in valid_letters:\n",
    "            new_string+=char\n",
    "    index_values=[key.index(char) for char in new_string]\n",
    "    print(index_values)\n",
    "    return \"\".join(valid_letters[indexkey] for indexkey in index_values)\n",
    "\n",
    "\n",
    "\n",
    "def main():     \n",
    "\n",
    "    choice = int(input(\"1. Encryption\\n2. Decryption\\nChoose(1,2): \"))\n",
    "    \n",
    "    if choice == 1:\n",
    "        start_time = time.time()\n",
    "        print(\"---Encrypting---\")\n",
    "        with open('Datasets/bigdataset.txt','r') as file:\n",
    "            enc=[encrypt(word) for word in file.read().split()]\n",
    "        end_time=time.time()\n",
    "        print(\"Total number of words= \",len(enc))\n",
    "        print(\"Execution time= \",end_time-start_time)\n",
    "\n",
    "    elif choice == 2:\n",
    "        start_time = time.time()\n",
    "        print(\"---Decrypting---\")\n",
    "        with open('dataset.txt','r') as file:\n",
    "            dec=[decrypt(word) for word in file.read().split()]\n",
    "        end_time=time.time()\n",
    "        print(\"Total number of words= \",len(dec))\n",
    "        print(\"Execution time= \",end_time-start_time)\n",
    "    else:\n",
    "        print(\"Incorrect Choice\")\n",
    "\n",
    "if __name__ == \"__main__\":\n",
    "    main()"
   ]
  },
  {
   "cell_type": "markdown",
   "metadata": {},
   "source": [
    "# Joblib"
   ]
  },
  {
   "cell_type": "code",
   "execution_count": 8,
   "metadata": {
    "ExecuteTime": {
     "end_time": "2021-04-25T06:19:44.912226Z",
     "start_time": "2021-04-25T06:17:48.285199Z"
    }
   },
   "outputs": [
    {
     "name": "stdout",
     "output_type": "stream",
     "text": [
      "1. Encryption\n",
      "2. Decryption\n",
      "Choose(1,2): 1\n",
      "---Encrypting---\n",
      "Execution time=  115.08002305030823\n"
     ]
    }
   ],
   "source": [
    "import sys\n",
    "import time\n",
    "import joblib\n",
    "import dask.dataframe as dd\n",
    "from joblib import Parallel, delayed\n",
    "\n",
    "valid_letters='abcdefghijklmnopqrstuvwxyz'\n",
    "user_key='keywords'\n",
    "key=''\n",
    "\n",
    "cipher=[]\n",
    "for char in user_key:\n",
    "    if char in valid_letters:\n",
    "            key+=char\n",
    "for char in valid_letters:\n",
    "    if char not in key:\n",
    "        key+=char\n",
    "        \n",
    "def encrypt(clear_text):\n",
    "    new_string=''\n",
    "    for char in clear_text:\n",
    "        if char in valid_letters:\n",
    "            new_string+=char\n",
    "    index_values=[valid_letters.index(char) for char in new_string]\n",
    "    return \"\".join(key[indexkey] for indexkey in index_values)\n",
    "\n",
    "def decrypt(encrypted_text):\n",
    "    new_string=''\n",
    "    for char in encrypted_text:\n",
    "        if char in valid_letters:\n",
    "            new_string+=char\n",
    "    index_values=[key.index(char) for char in new_string]\n",
    "    print(index_values)\n",
    "    return \"\".join(valid_letters[indexkey] for indexkey in index_values)\n",
    "\n",
    "\n",
    "def main():     \n",
    "    choice = int(input(\"1. Encryption\\n2. Decryption\\nChoose(1,2): \"))\n",
    "    \n",
    "    if choice == 1:\n",
    "        start_time = time.time()\n",
    "        print(\"---Encrypting---\")\n",
    "        with open('Datasets/bigdataset.txt','r') as file:\n",
    "            Parallel(8)(delayed(encrypt)(word) for word in file.read().split())\n",
    "        end_time=time.time()\n",
    "        print(\"Execution time= \",end_time-start_time)\n",
    "\n",
    "    elif choice == 2:\n",
    "        start_time = time.time()\n",
    "        print(\"---Decrypting---\")        \n",
    "        with open('Datasets/bigdataset.txt','r') as file:\n",
    "            Parallel(8)(delayed(decrypt)(word) for word in file.read().split())\n",
    "        end_time=time.time()\n",
    "        print(\"Execution time= \",end_time-start_time)\n",
    "    else:\n",
    "        print(\"Incorrect Choice\")\n",
    "\n",
    "if __name__ == \"__main__\":\n",
    "    main()"
   ]
  },
  {
   "cell_type": "markdown",
   "metadata": {
    "ExecuteTime": {
     "start_time": "2021-04-11T11:56:27.193Z"
    }
   },
   "source": [
    "# Dask Dataframe Implementation (Joblibs)"
   ]
  },
  {
   "cell_type": "markdown",
   "metadata": {},
   "source": [
    "#### Dask Client Setup"
   ]
  },
  {
   "cell_type": "code",
   "execution_count": 2,
   "metadata": {
    "ExecuteTime": {
     "end_time": "2021-04-15T13:05:24.943793Z",
     "start_time": "2021-04-15T13:05:23.243829Z"
    }
   },
   "outputs": [
    {
     "data": {
      "text/html": [
       "<table style=\"border: 2px solid white;\">\n",
       "<tr>\n",
       "<td style=\"vertical-align: top; border: 0px solid white\">\n",
       "<h3 style=\"text-align: left;\">Client</h3>\n",
       "<ul style=\"text-align: left; list-style: none; margin: 0; padding: 0;\">\n",
       "  <li><b>Scheduler: </b>inproc://192.168.0.110/1688/1</li>\n",
       "  <li><b>Dashboard: </b><a href='http://192.168.0.110:8787/status' target='_blank'>http://192.168.0.110:8787/status</a></li>\n",
       "</ul>\n",
       "</td>\n",
       "<td style=\"vertical-align: top; border: 0px solid white\">\n",
       "<h3 style=\"text-align: left;\">Cluster</h3>\n",
       "<ul style=\"text-align: left; list-style:none; margin: 0; padding: 0;\">\n",
       "  <li><b>Workers: </b>8</li>\n",
       "  <li><b>Cores: </b>8</li>\n",
       "  <li><b>Memory: </b>17.04 GB</li>\n",
       "</ul>\n",
       "</td>\n",
       "</tr>\n",
       "</table>"
      ],
      "text/plain": [
       "<Client: 'inproc://192.168.0.110/1688/1' processes=8 threads=8, memory=17.04 GB>"
      ]
     },
     "execution_count": 2,
     "metadata": {},
     "output_type": "execute_result"
    }
   ],
   "source": [
    "import dask.dataframe as dd\n",
    "import dask\n",
    "from dask.distributed import Client, progress\n",
    "client = Client(threads_per_worker=1, n_workers=8)\n",
    "client"
   ]
  },
  {
   "cell_type": "code",
   "execution_count": 22,
   "metadata": {
    "ExecuteTime": {
     "end_time": "2021-04-26T11:45:50.640056Z",
     "start_time": "2021-04-26T11:44:25.919208Z"
    }
   },
   "outputs": [
    {
     "name": "stdout",
     "output_type": "stream",
     "text": [
      "Execution time=  84.6863648891449\n",
      "Wall time: 1min 24s\n"
     ]
    }
   ],
   "source": [
    "%%time\n",
    "\n",
    "import dask.dataframe as dd\n",
    "from joblib import Parallel,delayed\n",
    "from numba import jit\n",
    "import time\n",
    "valid_letters='abcdefghijklmnopqrstuvwxyz'\n",
    "user_key='keyword'\n",
    "key=''\n",
    "\n",
    "cipher=[]\n",
    "for char in user_key:\n",
    "    if char in valid_letters:\n",
    "            key+=char\n",
    "for char in valid_letters:\n",
    "    if char not in key:\n",
    "        key+=char\n",
    "\n",
    "def encrypt(clear_text):\n",
    "    new_string=''\n",
    "    for char in clear_text:\n",
    "        if char in valid_letters:\n",
    "            new_string+=char\n",
    "    index_values=[valid_letters.index(char) for char in new_string]\n",
    "    return \"\".join(key[indexkey] for indexkey in index_values)\n",
    "\n",
    "words=dd.read_csv('Datasets/smalldataset.txt').repartition(npartitions=8)\n",
    "start_time = time.time()\n",
    "x=Parallel(8)(delayed(encrypt)(str(word)) for word in words['password'])        \n",
    "print(\"Execution time= \",time.time()-start_time)"
   ]
  },
  {
   "cell_type": "code",
   "execution_count": null,
   "metadata": {},
   "outputs": [],
   "source": []
  }
 ],
 "metadata": {
  "kernelspec": {
   "display_name": "Python 3",
   "language": "python",
   "name": "python3"
  },
  "language_info": {
   "codemirror_mode": {
    "name": "ipython",
    "version": 3
   },
   "file_extension": ".py",
   "mimetype": "text/x-python",
   "name": "python",
   "nbconvert_exporter": "python",
   "pygments_lexer": "ipython3",
   "version": "3.8.5"
  },
  "varInspector": {
   "cols": {
    "lenName": 16,
    "lenType": 16,
    "lenVar": 40
   },
   "kernels_config": {
    "python": {
     "delete_cmd_postfix": "",
     "delete_cmd_prefix": "del ",
     "library": "var_list.py",
     "varRefreshCmd": "print(var_dic_list())"
    },
    "r": {
     "delete_cmd_postfix": ") ",
     "delete_cmd_prefix": "rm(",
     "library": "var_list.r",
     "varRefreshCmd": "cat(var_dic_list()) "
    }
   },
   "types_to_exclude": [
    "module",
    "function",
    "builtin_function_or_method",
    "instance",
    "_Feature"
   ],
   "window_display": true
  }
 },
 "nbformat": 4,
 "nbformat_minor": 4
}
